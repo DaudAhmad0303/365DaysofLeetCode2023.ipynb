{
  "nbformat": 4,
  "nbformat_minor": 0,
  "metadata": {
    "colab": {
      "provenance": [],
      "authorship_tag": "ABX9TyPlLOTnFlMi1Clys3oe9Qj2",
      "include_colab_link": true
    },
    "kernelspec": {
      "name": "python3",
      "display_name": "Python 3"
    },
    "language_info": {
      "name": "python"
    }
  },
  "cells": [
    {
      "cell_type": "markdown",
      "metadata": {
        "id": "view-in-github",
        "colab_type": "text"
      },
      "source": [
        "<a href=\"https://colab.research.google.com/github/DaudAhmad0303/365DaysofLeetCode2023.ipynb/blob/main/365DaysofLeetCode2023.ipynb\" target=\"_parent\"><img src=\"https://colab.research.google.com/assets/colab-badge.svg\" alt=\"Open In Colab\"/></a>"
      ]
    },
    {
      "cell_type": "markdown",
      "source": [
        "# **January LeetCoding Challenge**"
      ],
      "metadata": {
        "id": "FT8tLV9Od9OX"
      }
    },
    {
      "cell_type": "markdown",
      "source": [
        "## [**290. Word Pattern**](https://leetcode.com/problems/word-pattern/)\n",
        "\n",
        "Given a `pattern` and a string `s`, find if `s` follows the same pattern.\n",
        "\n",
        "Here **follow** means a full match, such that there is a bijection between a letter in `pattern` and a **non-empty** word in `s`.\n",
        "\n",
        " \n",
        "\n",
        "Example 1:\n",
        "```\n",
        "Input: pattern = \"abba\", s = \"dog cat cat dog\"\n",
        "Output: true\n",
        "```\n",
        "Example 2:\n",
        "```\n",
        "Input: pattern = \"abba\", s = \"dog cat cat fish\"\n",
        "Output: false\n",
        "```\n",
        "Example 3:\n",
        "```\n",
        "Input: pattern = \"aaaa\", s = \"dog cat cat dog\"\n",
        "Output: false\n",
        "```\n",
        "\n",
        "Hint: Solved using double pointer technique and Hash Map."
      ],
      "metadata": {
        "id": "wTlhlxa2g5ao"
      }
    },
    {
      "cell_type": "code",
      "execution_count": 1,
      "metadata": {
        "id": "fTfiFhKwdreD"
      },
      "outputs": [],
      "source": [
        "class Solution:\n",
        "    def wordPattern(self, pattern: str, s: str) -> bool:\n",
        "        table = dict()\n",
        "        s = s.split()\n",
        "        if len(s) != len(pattern) or len(set(s)) != len(set(list(pattern))):\n",
        "            return False\n",
        "        for i in range(len(pattern)):\n",
        "            # To avoid same values in `pattern` and `s`\n",
        "            pattern_value, s_value = \"pat\"+pattern[i], \"str\"+s[i]\n",
        "            if pattern_value not in table:\n",
        "                table[pattern_value] = i\n",
        "            if s_value not in table:\n",
        "                table[s_value] = i\n",
        "            if table[s_value] != table[pattern_value]:\n",
        "                return False\n",
        "        return True"
      ]
    }
  ]
}