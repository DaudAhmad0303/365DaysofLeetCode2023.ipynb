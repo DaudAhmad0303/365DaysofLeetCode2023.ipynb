{
  "nbformat": 4,
  "nbformat_minor": 0,
  "metadata": {
    "colab": {
      "provenance": [],
      "authorship_tag": "ABX9TyMrpigk5tYyjolZ/DU4WdTa",
      "include_colab_link": true
    },
    "kernelspec": {
      "name": "python3",
      "display_name": "Python 3"
    },
    "language_info": {
      "name": "python"
    }
  },
  "cells": [
    {
      "cell_type": "markdown",
      "metadata": {
        "id": "view-in-github",
        "colab_type": "text"
      },
      "source": [
        "<a href=\"https://colab.research.google.com/github/DaudAhmad0303/365DaysofLeetCode2023.ipynb/blob/main/365DaysofLeetCode2023.ipynb\" target=\"_parent\"><img src=\"https://colab.research.google.com/assets/colab-badge.svg\" alt=\"Open In Colab\"/></a>"
      ]
    },
    {
      "cell_type": "markdown",
      "source": [
        "# **January LeetCoding Challenge**"
      ],
      "metadata": {
        "id": "FT8tLV9Od9OX"
      }
    },
    {
      "cell_type": "markdown",
      "source": [
        "## [**290. Word Pattern**](https://leetcode.com/problems/word-pattern/)"
      ],
      "metadata": {
        "id": "wTlhlxa2g5ao"
      }
    },
    {
      "cell_type": "markdown",
      "source": [
        "Given a `pattern` and a string `s`, find if `s` follows the same pattern.\n",
        "\n",
        "Here **follow** means a full match, such that there is a bijection between a letter in `pattern` and a **non-empty** word in `s`.\n",
        "\n",
        " \n",
        "\n",
        "Example 1:\n",
        "```\n",
        "Input: pattern = \"abba\", s = \"dog cat cat dog\"\n",
        "Output: true\n",
        "```\n",
        "Example 2:\n",
        "```\n",
        "Input: pattern = \"abba\", s = \"dog cat cat fish\"\n",
        "Output: false\n",
        "```\n",
        "Example 3:\n",
        "```\n",
        "Input: pattern = \"aaaa\", s = \"dog cat cat dog\"\n",
        "Output: false\n",
        "```\n",
        "\n",
        "Hint: Solved using double pointer technique and Hash Map."
      ],
      "metadata": {
        "id": "wl64UBxGBD5b"
      }
    },
    {
      "cell_type": "code",
      "execution_count": 2,
      "metadata": {
        "id": "fTfiFhKwdreD"
      },
      "outputs": [],
      "source": [
        "class Solution:\n",
        "    def wordPattern(self, pattern: str, s: str) -> bool:\n",
        "        table = dict()\n",
        "        s = s.split()\n",
        "        if len(s) != len(pattern) or len(set(s)) != len(set(list(pattern))):\n",
        "            return False\n",
        "        for i in range(len(pattern)):\n",
        "            # To avoid same values in `pattern` and `s`\n",
        "            pattern_value, s_value = \"pat\"+pattern[i], \"str\"+s[i]\n",
        "            if pattern_value not in table:\n",
        "                table[pattern_value] = i\n",
        "            if s_value not in table:\n",
        "                table[s_value] = i\n",
        "            if table[s_value] != table[pattern_value]:\n",
        "                return False\n",
        "        return True"
      ]
    },
    {
      "cell_type": "markdown",
      "source": [
        "## [**520. Detect Capital**](https://leetcode.com/problems/detect-capital/)\n"
      ],
      "metadata": {
        "id": "35qfYYPWBIc-"
      }
    },
    {
      "cell_type": "markdown",
      "source": [
        "We define the usage of capitals in a word to be right when one of the following cases holds:\n",
        "\n",
        "All letters in this word are capitals, like `\"USA\"`.\n",
        "All letters in this word are not capitals, like `\"leetcode\"`.\n",
        "Only the first letter in this word is capital, like `\"Google\"`.\n",
        "Given a string `word`, return `true` if the usage of capitals in it is right.\n",
        "\n",
        " \n",
        "\n",
        "Example 1:\n",
        "```\n",
        "Input: word = \"USA\"\n",
        "Output: true\n",
        "```\n",
        "Example 2:\n",
        "```\n",
        "Input: word = \"FlaG\"\n",
        "Output: false\n",
        "```"
      ],
      "metadata": {
        "id": "4UifhPZ1Bt1q"
      }
    },
    {
      "cell_type": "code",
      "source": [
        "class Solution(object):\n",
        "    def detectCapitalUse(self, word: str) -> bool:\n",
        "        return True if word in [word.capitalize(), word.lower(), word.upper()] else False"
      ],
      "metadata": {
        "id": "ONDGj4REA9-x"
      },
      "execution_count": 3,
      "outputs": []
    }
  ]
}