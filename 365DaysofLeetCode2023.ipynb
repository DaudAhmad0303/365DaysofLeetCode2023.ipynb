{
  "nbformat": 4,
  "nbformat_minor": 0,
  "metadata": {
    "colab": {
      "provenance": [],
      "authorship_tag": "ABX9TyOJiuF0GZwS2mKM7rYV0knO",
      "include_colab_link": true
    },
    "kernelspec": {
      "name": "python3",
      "display_name": "Python 3"
    },
    "language_info": {
      "name": "python"
    }
  },
  "cells": [
    {
      "cell_type": "markdown",
      "metadata": {
        "id": "view-in-github",
        "colab_type": "text"
      },
      "source": [
        "<a href=\"https://colab.research.google.com/github/DaudAhmad0303/365DaysofLeetCode2023.ipynb/blob/main/365DaysofLeetCode2023.ipynb\" target=\"_parent\"><img src=\"https://colab.research.google.com/assets/colab-badge.svg\" alt=\"Open In Colab\"/></a>"
      ]
    },
    {
      "cell_type": "markdown",
      "source": [
        "# **January LeetCoding Challenge**"
      ],
      "metadata": {
        "id": "FT8tLV9Od9OX"
      }
    },
    {
      "cell_type": "markdown",
      "source": [
        "## [**290. Word Pattern**](https://leetcode.com/problems/word-pattern/)"
      ],
      "metadata": {
        "id": "wTlhlxa2g5ao"
      }
    },
    {
      "cell_type": "markdown",
      "source": [
        "Given a `pattern` and a string `s`, find if `s` follows the same pattern.\n",
        "\n",
        "Here **follow** means a full match, such that there is a bijection between a letter in `pattern` and a **non-empty** word in `s`.\n",
        "\n",
        " \n",
        "\n",
        "Example 1:\n",
        "```\n",
        "Input: pattern = \"abba\", s = \"dog cat cat dog\"\n",
        "Output: true\n",
        "```\n",
        "Example 2:\n",
        "```\n",
        "Input: pattern = \"abba\", s = \"dog cat cat fish\"\n",
        "Output: false\n",
        "```\n",
        "Example 3:\n",
        "```\n",
        "Input: pattern = \"aaaa\", s = \"dog cat cat dog\"\n",
        "Output: false\n",
        "```\n",
        "\n",
        "Hint: Solved using double pointer technique and Hash Map."
      ],
      "metadata": {
        "id": "wl64UBxGBD5b"
      }
    },
    {
      "cell_type": "code",
      "execution_count": null,
      "metadata": {
        "id": "fTfiFhKwdreD"
      },
      "outputs": [],
      "source": [
        "class Solution:\n",
        "    def wordPattern(self, pattern: str, s: str) -> bool:\n",
        "        table = dict()\n",
        "        s = s.split()\n",
        "        if len(s) != len(pattern) or len(set(s)) != len(set(list(pattern))):\n",
        "            return False\n",
        "        for i in range(len(pattern)):\n",
        "            # To avoid same values in `pattern` and `s`\n",
        "            pattern_value, s_value = \"pat\"+pattern[i], \"str\"+s[i]\n",
        "            if pattern_value not in table:\n",
        "                table[pattern_value] = i\n",
        "            if s_value not in table:\n",
        "                table[s_value] = i\n",
        "            if table[s_value] != table[pattern_value]:\n",
        "                return False\n",
        "        return True"
      ]
    },
    {
      "cell_type": "markdown",
      "source": [
        "## [**520. Detect Capital**](https://leetcode.com/problems/detect-capital/)\n"
      ],
      "metadata": {
        "id": "35qfYYPWBIc-"
      }
    },
    {
      "cell_type": "markdown",
      "source": [
        "We define the usage of capitals in a word to be right when one of the following cases holds:\n",
        "\n",
        "All letters in this word are capitals, like `\"USA\"`.\n",
        "All letters in this word are not capitals, like `\"leetcode\"`.\n",
        "Only the first letter in this word is capital, like `\"Google\"`.\n",
        "Given a string `word`, return `true` if the usage of capitals in it is right.\n",
        "\n",
        " \n",
        "\n",
        "Example 1:\n",
        "```\n",
        "Input: word = \"USA\"\n",
        "Output: true\n",
        "```\n",
        "Example 2:\n",
        "```\n",
        "Input: word = \"FlaG\"\n",
        "Output: false\n",
        "```"
      ],
      "metadata": {
        "id": "4UifhPZ1Bt1q"
      }
    },
    {
      "cell_type": "code",
      "source": [
        "class Solution(object):\n",
        "    def detectCapitalUse(self, word: str) -> bool:\n",
        "        return True if word in [word.capitalize(), word.lower(), word.upper()] else False"
      ],
      "metadata": {
        "id": "ONDGj4REA9-x"
      },
      "execution_count": null,
      "outputs": []
    },
    {
      "cell_type": "markdown",
      "source": [
        "## [**944. Delete Columns to Make Sorted**](https://leetcode.com/problems/delete-columns-to-make-sorted/)"
      ],
      "metadata": {
        "id": "xSGqAirL4zTD"
      }
    },
    {
      "cell_type": "markdown",
      "source": [
        "You are given an array of n strings strs, all of the same length.\n",
        "\n",
        "The strings can be arranged such that there is one on each line, making a grid. For example, strs = [\"abc\", \"bce\", \"cae\"] can be arranged as:\n",
        "```\n",
        "abc\n",
        "bce\n",
        "cae\n",
        "```\n",
        "You want to delete the columns that are not sorted lexicographically. In the above example (0-indexed), columns 0 (`'a'`, `'b'`, `'c'`) and 2 (`'c'`, `'e'`, `'e'`) are sorted while column 1 (`'b'`, `'c'`, `'a'`) is not, so you would delete column 1.\n",
        "\n",
        "Return the number of columns that you will delete.\n",
        "\n",
        " \n",
        "\n",
        "Example 1:\n",
        "```\n",
        "Input: strs = [\"cba\",\"daf\",\"ghi\"]\n",
        "Output: 1\n",
        "Explanation: The grid looks as follows:\n",
        "  cba\n",
        "  daf\n",
        "  ghi\n",
        "Columns 0 and 2 are sorted, but column 1 is not, so you only need to delete 1 column.\n",
        "```\n",
        "Example 2:\n",
        "```\n",
        "Input: strs = [\"a\",\"b\"]\n",
        "Output: 0\n",
        "Explanation: The grid looks as follows:\n",
        "  a\n",
        "  b\n",
        "Column 0 is the only column and is sorted, so you will not delete any columns.\n",
        "```\n",
        "Example 3:\n",
        "```\n",
        "Input: strs = [\"zyx\",\"wvu\",\"tsr\"]\n",
        "Output: 3\n",
        "Explanation: The grid looks as follows:\n",
        "  zyx\n",
        "  wvu\n",
        "  tsr\n",
        "All 3 columns are not sorted, so you will delete all 3.\n",
        "```"
      ],
      "metadata": {
        "id": "-CQZE-Ih5Naz"
      }
    },
    {
      "cell_type": "code",
      "source": [],
      "metadata": {
        "id": "mR_0z91V5Mq_"
      },
      "execution_count": null,
      "outputs": []
    },
    {
      "cell_type": "markdown",
      "source": [
        "## [**2244. Minimum Rounds to Complete All Tasks**](https://leetcode.com/problems/minimum-rounds-to-complete-all-tasks/description/)"
      ],
      "metadata": {
        "id": "iqAjb02c1xrJ"
      }
    },
    {
      "cell_type": "markdown",
      "source": [
        "You are given a **0-indexed** integer array `tasks`, where `tasks[i]` represents the difficulty level of a task. In each round, you can complete either 2 or 3 tasks of the **same difficulty level**.\n",
        "\n",
        "Return the **minimum** rounds required to complete all the tasks, or `-1` if it is not possible to complete all the tasks.\n",
        "\n",
        " \n",
        "\n",
        "Example 1:\n",
        "```\n",
        "Input: tasks = [2,2,3,3,2,4,4,4,4,4]\n",
        "Output: 4\n",
        "Explanation: To complete all the tasks, a possible plan is:\n",
        "- In the first round, you complete 3 tasks of difficulty level 2. \n",
        "- In the second round, you complete 2 tasks of difficulty level 3. \n",
        "- In the third round, you complete 3 tasks of difficulty level 4. \n",
        "- In the fourth round, you complete 2 tasks of difficulty level 4.  \n",
        "It can be shown that all the tasks cannot be completed in fewer than 4 rounds, so the answer is 4.\n",
        "```\n",
        "Example 2:\n",
        "```\n",
        "Input: tasks = [2,3,3]\n",
        "Output: -1\n",
        "Explanation: There is only 1 task of difficulty level 2, but in each round, you can only complete either 2 or 3 tasks of the same difficulty level. Hence, you cannot complete all the tasks, and the answer is -1.\n",
        "```"
      ],
      "metadata": {
        "id": "xMotekA21_PN"
      }
    },
    {
      "cell_type": "code",
      "source": [
        "from collections import Counter\n",
        "class Solution:\n",
        "    def minimumRounds(self, tasks) -> int:\n",
        "        tasks = Counter(tasks)\n",
        "        count = 0\n",
        "        for key, value in tasks.items():\n",
        "            if value % 2 == 0:\n",
        "                c = value // 2\n",
        "                count += c\n",
        "                continue\n",
        "            c1 = value // 3\n",
        "            temp1 = value % 3\n",
        "            c2 = temp1 // 2\n",
        "            temp2 = temp1 % 2\n",
        "            count += c1 + c2\n",
        "            if temp2 != 0:\n",
        "                return -1\n",
        "        return count"
      ],
      "metadata": {
        "id": "6tfeOuKx2cuQ"
      },
      "execution_count": null,
      "outputs": []
    },
    {
      "cell_type": "code",
      "source": [
        "obj1 = Solution()\n",
        "print(obj1.minimumRounds(tasks = [2,2,3,3,2,4,4,4,4,4]))"
      ],
      "metadata": {
        "colab": {
          "base_uri": "https://localhost:8080/"
        },
        "id": "AtJ3UJUqwhGr",
        "outputId": "24e2e4b7-62e7-4dd1-8d6d-7b25e35aeef9"
      },
      "execution_count": null,
      "outputs": [
        {
          "output_type": "stream",
          "name": "stdout",
          "text": [
            "4\n"
          ]
        }
      ]
    },
    {
      "cell_type": "markdown",
      "source": [],
      "metadata": {
        "id": "VtnNjxUkwrsR"
      }
    },
    {
      "cell_type": "markdown",
      "source": [
        "## [**452. Minimum Number of Arrows to Burst Balloons**](https://leetcode.com/problems/minimum-number-of-arrows-to-burst-balloons)"
      ],
      "metadata": {
        "id": "0dOFZUNAwzF_"
      }
    },
    {
      "cell_type": "markdown",
      "source": [
        "There are some spherical balloons taped onto a flat wall that represents the XY-plane. The balloons are represented as a 2D integer array `points` where `points[i] = [xstart, xend]` denotes a balloon whose **horizontal diameter** stretches between `xstart` and `xend`. You do not know the exact y-coordinates of the balloons.\n",
        "\n",
        "Arrows can be shot up **directly vertically** (in the positive y-direction) from different points along the x-axis. A balloon with `xstart` and `xend` is **burst** by an arrow shot at `x` if `xstart <= x <= xend`. There is **no limit** to the number of arrows that can be shot. A shot arrow keeps traveling up infinitely, bursting any balloons in its path.\n",
        "\n",
        "Given the array `points`, return the **minimum** number of arrows that must be shot to burst all balloons.\n",
        "\n",
        " \n",
        "\n",
        "Example 1:\n",
        "```\n",
        "Input: points = [[10,16],[2,8],[1,6],[7,12]]\n",
        "Output: 2\n",
        "Explanation: The balloons can be burst by 2 arrows:\n",
        "- Shoot an arrow at x = 6, bursting the balloons [2,8] and [1,6].\n",
        "- Shoot an arrow at x = 11, bursting the balloons [10,16] and [7,12].\n",
        "```\n",
        "Example 2:\n",
        "```\n",
        "Input: points = [[1,2],[3,4],[5,6],[7,8]]\n",
        "Output: 4\n",
        "Explanation: One arrow needs to be shot for each balloon for a total of 4 arrows.\n",
        "```\n",
        "Example 3:\n",
        "```\n",
        "Input: points = [[1,2],[2,3],[3,4],[4,5]]\n",
        "Output: 2\n",
        "Explanation: The balloons can be burst by 2 arrows:\n",
        "- Shoot an arrow at x = 2, bursting the balloons [1,2] and [2,3].\n",
        "- Shoot an arrow at x = 4, bursting the balloons [3,4] and [4,5].\n",
        "```"
      ],
      "metadata": {
        "id": "zz5elmQDw9OY"
      }
    },
    {
      "cell_type": "code",
      "source": [
        "class Solution:\n",
        "    def findMinArrowShots(self, points) -> int:\n",
        "        points.sort(key= lambda x : x[1])\n",
        "        ans = 0; arrow = 0\n",
        "        for start, end in points:\n",
        "            if ans == 0 or start > arrow:\n",
        "                ans = ans + 1\n",
        "                arrow = end\n",
        "        return ans"
      ],
      "metadata": {
        "id": "00o4Wbn-yMq4"
      },
      "execution_count": null,
      "outputs": []
    },
    {
      "cell_type": "code",
      "source": [
        "obj1 = Solution()\n",
        "print(obj1.findMinArrowShots(points = [[1,2],[2,3],[3,4],[4,5]]))"
      ],
      "metadata": {
        "colab": {
          "base_uri": "https://localhost:8080/"
        },
        "id": "aC6Ub71myM5X",
        "outputId": "8b64231c-8d13-4930-b676-d6514ecbed59"
      },
      "execution_count": null,
      "outputs": [
        {
          "output_type": "stream",
          "name": "stdout",
          "text": [
            "2\n"
          ]
        }
      ]
    },
    {
      "cell_type": "markdown",
      "source": [
        "## [**134. Gas Station**](https://leetcode.com/problems/gas-station/)"
      ],
      "metadata": {
        "id": "29yeg8k5YUGn"
      }
    },
    {
      "cell_type": "markdown",
      "source": [
        "There are `n` gas stations along a circular route, where the amount of gas at the `ith` station is `gas[i]`.\n",
        "\n",
        "You have a car with an unlimited gas tank and it costs `cost[i]` of gas to travel from the `ith` station to its next `(i + 1)th` station. You begin the journey with an empty tank at one of the gas stations.\n",
        "\n",
        "Given two integer arrays `gas` and `cost`, return the starting gas station's index if you can travel around the circuit once in the clockwise direction, otherwise return `-1`. If there exists a solution, it is **guaranteed** to be **unique**\n",
        "\n",
        " \n",
        "\n",
        "Example 1:\n",
        "```\n",
        "Input: gas = [1,2,3,4,5], cost = [3,4,5,1,2]\n",
        "Output: 3\n",
        "Explanation:\n",
        "Start at station 3 (index 3) and fill up with 4 unit of gas. Your tank = 0 + 4 = 4\n",
        "Travel to station 4. Your tank = 4 - 1 + 5 = 8\n",
        "Travel to station 0. Your tank = 8 - 2 + 1 = 7\n",
        "Travel to station 1. Your tank = 7 - 3 + 2 = 6\n",
        "Travel to station 2. Your tank = 6 - 4 + 3 = 5\n",
        "Travel to station 3. The cost is 5. Your gas is just enough to travel back to station 3.\n",
        "Therefore, return 3 as the starting index.\n",
        "```\n",
        "Example 2:\n",
        "```\n",
        "Input: gas = [2,3,4], cost = [3,4,3]\n",
        "Output: -1\n",
        "Explanation:\n",
        "You can't start at station 0 or 1, as there is not enough gas to travel to the next station.\n",
        "Let's start at station 2 and fill up with 4 unit of gas. Your tank = 0 + 4 = 4\n",
        "Travel to station 0. Your tank = 4 - 3 + 2 = 3\n",
        "Travel to station 1. Your tank = 3 - 3 + 3 = 3\n",
        "You cannot travel back to station 2, as it requires 4 unit of gas but you only have 3.\n",
        "Therefore, you can't travel around the circuit once no matter where you start.\n",
        "```"
      ],
      "metadata": {
        "id": "D7tAdM68Yexr"
      }
    },
    {
      "cell_type": "code",
      "source": [
        "class Solution:\n",
        "    def canCompleteCircuit(self, gas, cost) -> int:\n",
        "        trip_tank, curr_tank, start, n = 0, 0, 0, len(gas)\n",
        "        for i in range(n):\n",
        "            trip_tank += gas[i] - cost[i]\n",
        "            curr_tank += gas[i] - cost[i]\n",
        "            if curr_tank < 0:\n",
        "                start = i + 1\n",
        "                curr_tank = 0 \n",
        "        return start if trip_tank >= 0 else -1"
      ],
      "metadata": {
        "id": "GanJ-ToSyWQI"
      },
      "execution_count": null,
      "outputs": []
    },
    {
      "cell_type": "markdown",
      "source": [
        "## [**149. Max Points on a Line**](https://leetcode.com/problems/max-points-on-a-line/)"
      ],
      "metadata": {
        "id": "T5qpRqF53v91"
      }
    },
    {
      "cell_type": "markdown",
      "source": [
        "Given an array of `points` where `points[i] = [xi, yi]` represents a point on the **X-Y** plane, return the maximum number of points that lie on the same straight line.\n",
        "\n",
        "Example 1:\n",
        "\n",
        "![plane1.jpg](data:image/jpeg;base64,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)\n",
        "\n",
        "```\n",
        "Input: points = [[1,1],[2,2],[3,3]]\n",
        "Output: 3\n",
        "```\n",
        "\n",
        "Example 2:\n",
        "\n",
        "![plane2.jpg](data:image/jpeg;base64,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)\n",
        "\n",
        "```\n",
        "Input: points = [[1,1],[3,2],[5,3],[4,1],[2,3],[1,4]]\n",
        "Output: 4\n",
        "```"
      ],
      "metadata": {
        "id": "8TKjVVrA4EVa"
      }
    },
    {
      "cell_type": "code",
      "source": [],
      "metadata": {
        "id": "ssBrW99m5qT3"
      },
      "execution_count": null,
      "outputs": []
    },
    {
      "cell_type": "markdown",
      "source": [
        "## [**144. Binary Tree Preorder Traversal**](https://leetcode.com/problems/binary-tree-preorder-traversal/)"
      ],
      "metadata": {
        "id": "lL4Adt-Q4if4"
      }
    },
    {
      "cell_type": "markdown",
      "source": [
        "Given the root of a binary tree, return the preorder traversal of its nodes' values.\n",
        "\n",
        " \n",
        "\n",
        "Example 1:\n",
        "![inorder_1.jpg](data:image/jpeg;base64,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)\n",
        "```\n",
        "Input: root = [1,null,2,3]\n",
        "Output: [1,2,3]\n",
        "```\n",
        "Example 2:\n",
        "\n",
        "```\n",
        "Input: root = []\n",
        "Output: []\n",
        "```\n",
        "Example 3:\n",
        "\n",
        "```\n",
        "Input: root = [1]\n",
        "Output: [1]\n",
        "```"
      ],
      "metadata": {
        "id": "W90jpS2g4twT"
      }
    },
    {
      "cell_type": "code",
      "source": [
        "# Definition for a binary tree node.\n",
        "class TreeNode:\n",
        "    def __init__(self, val=0, left=None, right=None):\n",
        "        self.val = val\n",
        "        self.left = left\n",
        "        self.right = right\n",
        "class Solution:\n",
        "    def preorderTraversal(self, root):\n",
        "        answer = list()\n",
        "        def dfs(node):\n",
        "            if not node:\n",
        "                return \n",
        "\n",
        "            answer.append(node.val)\n",
        "            dfs(node.left)\n",
        "            dfs(node.right)\n",
        "            \n",
        "        dfs(root)\n",
        "        return answer\n"
      ],
      "metadata": {
        "id": "8Sah9Wma48yU"
      },
      "execution_count": 2,
      "outputs": []
    },
    {
      "cell_type": "code",
      "source": [
        "t3 = TreeNode(val=3)\n",
        "t2 = TreeNode(val=2, left=t3)\n",
        "t1 = TreeNode(val=1, right=t2)\n",
        "obj = Solution()\n",
        "print(obj.preorderTraversal(t1))"
      ],
      "metadata": {
        "colab": {
          "base_uri": "https://localhost:8080/"
        },
        "id": "4ahKo6CL8vm6",
        "outputId": "1e3febb7-b5a0-4055-fbb0-b73284d7f30d"
      },
      "execution_count": 7,
      "outputs": [
        {
          "output_type": "stream",
          "name": "stdout",
          "text": [
            "[1, 2, 3]\n"
          ]
        }
      ]
    }
  ]
}